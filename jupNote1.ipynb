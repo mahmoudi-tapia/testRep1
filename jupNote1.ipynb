{
 "cells": [
  {
   "cell_type": "markdown",
   "metadata": {},
   "source": [
    "% Calibration of hierarchical computer models with existence of unobservable variables\n",
    "% Mo Mahmoudi\n",
    "% Dec 10, 2018\n",
    "\n",
    "\n",
    "## Abstract\n",
    "Bayesian calibration of computer models is a widely used practice in many engineering fields. In addition, with the advancement of computing power and code parallelization techniques more high fidelity computer simulation models are being employed for process analysis and optimization. Integration of computer models to achieve a fully model-based process optimization is a growing area of study. In this work we investigate the problem of backward uncertainty quantification (known as calibration) for a system of computer models which are integrated in a hierarchical fashion. We consider an important assumption of existence of unobservable outputs in our system. \n",
    "\n",
    "## Introduction\n",
    "The body of literature on statistical calibration of a single computer model is rich, many of them use the two-stage framework by Kennedy and O'Hagan [-@kennedy2001bayesian]. However, in most engineering problems, the processes are often described not by a single computer model, but by a system of computer models. Many new problems arise when one decides to perform uncertainty quantification (UQ) for a complex system with multiple simulation models. For example,"
   ]
  },
  {
   "cell_type": "code",
   "execution_count": 2,
   "metadata": {},
   "outputs": [
    {
     "name": "stdout",
     "output_type": "stream",
     "text": [
      "\n",
      "Number of random points for Monte Carlo estimate of Pi?\n",
      ">1000\n",
      "\n",
      "--------------\n",
      "\n",
      "Approximate value for pi: 3.08\n",
      "Difference to exact value of pi: -0.061592653589793045\n",
      "Percent Error: (approx-exact)/exact*100: -1.9605550553924669%\n",
      "Execution Time: 0.07095670700073242 seconds\n",
      "\n"
     ]
    },
    {
     "data": {
      "image/png": "[encoded data removed]",
      "text/plain": [
       "<Figure size 432x288 with 1 Axes>"
      ]
     },
     "metadata": {},
     "output_type": "display_data"
    }
   ],
   "source": [
    "import numpy as np\n",
    "import matplotlib.pyplot as plt\n",
    "import time as time\n",
    "\n",
    "# input total number of random points\n",
    "total_random_points = int(input(\"\\nNumber of random points for Monte Carlo estimate of Pi?\\n>\"))\n",
    "\n",
    "# start time of calculation\n",
    "start_time = time.time()\n",
    "\n",
    "# number of random points inside unit cicrle and total random points\n",
    "inside_circle = 0\n",
    "\n",
    "# create empty x and y arrays for eventual scatter plot of generated random points\n",
    "x_plot_array = np.empty(shape=(1,total_random_points))\n",
    "y_plot_array = np.empty(shape=(1,total_random_points))\n",
    "\n",
    "# generate random points and count points inside unit circle\n",
    "# top right quadrant of unit cicrle only\n",
    "for i in range(0, total_random_points):\n",
    "    # print(f'\\nIteration: {i + 1}')\n",
    "    # generate random x, y in range [0, 1]\n",
    "    x = np.random.rand()\n",
    "    x_plot_array = np.append(x_plot_array, [x])\n",
    "    #print(f'{x_plot_array}')\n",
    "    # print(f'x value: {x}')\n",
    "    y = np.random.rand()\n",
    "    y_plot_array = np.append(y_plot_array, [y])\n",
    "    #print(f'{y_plot_array}')\n",
    "    # print(f'y value: {y}')\n",
    "    # calc x^2 and y^2 values\n",
    "    x_squared = x**2\n",
    "    y_squared = y**2\n",
    "    # count if inside unit circle, top right quadrant only\n",
    "    if np.sqrt(x_squared + y_squared) < 1.0:\n",
    "        inside_circle += 1\n",
    "    # print(f'Points inside circle {inside_circle}')\n",
    "    # print(f'Number of random points {i+1}')\n",
    "    # calc approximate pi value\n",
    "    pi_approx = inside_circle / (i+1) * 4\n",
    "    # print(f'Approximate value for pi: {pi_approx}')\n",
    "\n",
    "# final numeric output for pi estimate\n",
    "print (\"\\n--------------\")\n",
    "print (f\"\\nApproximate value for pi: {pi_approx}\")\n",
    "print (f\"Difference to exact value of pi: {pi_approx-np.pi}\")\n",
    "print (f\"Percent Error: (approx-exact)/exact*100: {(pi_approx-np.pi)/np.pi*100}%\")\n",
    "print (f\"Execution Time: {time.time() - start_time} seconds\\n\")\n",
    "\n",
    "# plot output of random points and circle, top right quadrant only\n",
    "random_points_plot = plt.scatter(x_plot_array, y_plot_array, color='blue', s=.1)\n",
    "circle_plot = plt.Circle( ( 0, 0 ), 1, color='red', linewidth=2, fill=False)\n",
    "\n",
    "ax = plt.gca()\n",
    "ax.cla()\n",
    "\n",
    "ax.add_artist(random_points_plot)\n",
    "ax.add_artist(circle_plot)\n",
    "\n",
    "plt.show()"
   ]
  },
  {
   "cell_type": "code",
   "execution_count": null,
   "metadata": {},
   "outputs": [],
   "source": []
  }
 ],
 "metadata": {
  "kernelspec": {
   "display_name": "Python 3",
   "language": "python",
   "name": "python3"
  },
  "language_info": {
   "codemirror_mode": {
    "name": "ipython",
    "version": 3
   },
   "file_extension": ".py",
   "mimetype": "text/x-python",
   "name": "python",
   "nbconvert_exporter": "python",
   "pygments_lexer": "ipython3",
   "version": "3.6.5"
  }
 },
 "nbformat": 4,
 "nbformat_minor": 2
}
